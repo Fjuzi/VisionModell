{
 "cells": [
  {
   "cell_type": "code",
   "execution_count": 3,
   "metadata": {},
   "outputs": [],
   "source": [
    "import encoder.encoder as enc\n",
    "import numpy as np\n",
    "from data.get_data import get_data"
   ]
  },
  {
   "cell_type": "code",
   "execution_count": 4,
   "metadata": {},
   "outputs": [],
   "source": [
    "np.random.seed(102)\n",
    "params = {\n",
    "    \"dataset\": \"BSDS\",\n",
    "    \"patch_size\": 12,\n",
    "    \"batch_size\": 2,\n",
    "    \"learning_rate\": np.float32(0.001),\n",
    "    \"final_learning_rate\": np.float32(0.00001),\n",
    "    \"n_grad_step\": 10,\n",
    "    \"loss_type\": \"exp\",\n",
    "\n",
    "\n",
    "}"
   ]
  },
  {
   "cell_type": "code",
   "execution_count": 5,
   "metadata": {},
   "outputs": [],
   "source": [
    "get_data()"
   ]
  },
  {
   "cell_type": "code",
   "execution_count": null,
   "metadata": {},
   "outputs": [],
   "source": [
    "enc.make_encoder"
   ]
  }
 ],
 "metadata": {
  "kernelspec": {
   "display_name": "sandbox",
   "language": "python",
   "name": "python3"
  },
  "language_info": {
   "codemirror_mode": {
    "name": "ipython",
    "version": 3
   },
   "file_extension": ".py",
   "mimetype": "text/x-python",
   "name": "python",
   "nbconvert_exporter": "python",
   "pygments_lexer": "ipython3",
   "version": "3.8.10"
  }
 },
 "nbformat": 4,
 "nbformat_minor": 2
}
